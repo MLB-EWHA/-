{
 "cells": [
  {
   "cell_type": "code",
   "execution_count": 2,
   "metadata": {},
   "outputs": [],
   "source": [
    "import pandas as pd\n",
    "from sklearn.model_selection import train_test_split\n",
    "from sklearn.svm import SVC\n",
    "from sklearn.metrics import accuracy_score, f1_score\n",
    "from sklearn.preprocessing import StandardScaler\n",
    "from imblearn.over_sampling import RandomOverSampler\n",
    "\n",
    "\n",
    "# 1. CSV 파일을 데이터프레임으로 임포트\n",
    "df = pd.read_csv('/Users/whovi/OneDrive/Documents/monunmon.csv')\n"
   ]
  },
  {
   "cell_type": "code",
   "execution_count": 4,
   "metadata": {},
   "outputs": [],
   "source": [
    "# 2. 'Label' 칼럼을 이진 라벨로 매핑\n",
    "def map_to_binary(label):\n",
    "    try:\n",
    "        label_int = int(label)\n",
    "        if 0 <= label_int <= 94:\n",
    "            return 1  # monitored\n",
    "        else:\n",
    "            return -1  # unmonitored\n",
    "    except ValueError:\n",
    "        # 'Label' 값이 숫자가 아닌 경우\n",
    "        return -1\n",
    "\n",
    "df['BinaryLabel'] = df['Label'].apply(map_to_binary)"
   ]
  },
  {
   "cell_type": "code",
   "execution_count": 5,
   "metadata": {},
   "outputs": [],
   "source": [
    "# 3. 특징과 라벨 분리\n",
    "X = df.drop(['Label', 'BinaryLabel'], axis=1)  \n",
    "y = df['BinaryLabel']"
   ]
  },
  {
   "cell_type": "code",
   "execution_count": 6,
   "metadata": {},
   "outputs": [],
   "source": [
    "# 4. 데이터 스케일링 \n",
    "scaler = StandardScaler()\n",
    "X_scaled = scaler.fit_transform(X)"
   ]
  },
  {
   "cell_type": "code",
   "execution_count": 7,
   "metadata": {},
   "outputs": [],
   "source": [
    "# 5. 오버샘플링 적용 (소수 클래스 '1'을 다수 클래스와 동일하게 증강)\n",
    "ros = RandomOverSampler(random_state=42)\n",
    "X_resampled, y_resampled = ros.fit_resample(X_scaled, y)"
   ]
  },
  {
   "cell_type": "code",
   "execution_count": null,
   "metadata": {},
   "outputs": [
    {
     "name": "stdout",
     "output_type": "stream",
     "text": [
      "Accuracy: 0.6871\n",
      "F1 Score: 0.7099\n"
     ]
    }
   ],
   "source": [
    "# 6. 훈련 데이터와 테스트 데이터로 분리 \n",
    "X_train, X_test, y_train, y_test = train_test_split(\n",
    "    X_resampled, y_resampled, test_size=0.2, random_state=42, stratify=y_resampled\n",
    ")\n",
    "\n",
    "# 7. SVM 모델 초기화 및 학습\n",
    "svm = SVC(kernel='linear', class_weight=None, random_state=42)\n",
    "svm.fit(X_train, y_train)\n",
    "\n",
    "# 8. 테스트 데이터에 대해 예측 수행\n",
    "y_pred = svm.predict(X_test)\n",
    "\n",
    "# 9. 정확도와 F1 스코어 계산\n",
    "accuracy = accuracy_score(y_test, y_pred)\n",
    "f1 = f1_score(y_test, y_pred, pos_label=1)\n",
    "\n",
    "print(f\"Accuracy: {accuracy:.4f}\")\n",
    "print(f\"F1 Score: {f1:.4f}\")"
   ]
  },
  {
   "cell_type": "code",
   "execution_count": 9,
   "metadata": {},
   "outputs": [
    {
     "name": "stdout",
     "output_type": "stream",
     "text": [
      "Accuracy: 0.7689\n",
      "F1 Score: 0.7789\n"
     ]
    }
   ],
   "source": [
    "# 7. SVM 모델 초기화 및 학습\n",
    "svm2 = SVC(kernel='poly', degree=3, gamma='scale', coef0=1, class_weight=None, random_state=42)\n",
    "svm2.fit(X_train, y_train)\n",
    "\n",
    "# 8. 테스트 데이터에 대해 예측 수행\n",
    "y_pred = svm2.predict(X_test)\n",
    "\n",
    "# 9. 정확도와 F1 스코어 계산\n",
    "accuracy = accuracy_score(y_test, y_pred)\n",
    "f1 = f1_score(y_test, y_pred, pos_label=1)\n",
    "\n",
    "print(f\"Accuracy: {accuracy:.4f}\")\n",
    "print(f\"F1 Score: {f1:.4f}\")"
   ]
  },
  {
   "cell_type": "code",
   "execution_count": 10,
   "metadata": {},
   "outputs": [
    {
     "name": "stdout",
     "output_type": "stream",
     "text": [
      "Accuracy: 0.7737\n",
      "F1 Score: 0.7785\n"
     ]
    }
   ],
   "source": [
    "# 7. SVM 모델 초기화 및 학습\n",
    "svm3 = SVC(kernel='rbf', gamma='scale', C=1.0, class_weight=None, random_state=42)\n",
    "svm3.fit(X_train, y_train)\n",
    "\n",
    "# 8. 테스트 데이터에 대해 예측 수행\n",
    "y_pred = svm3.predict(X_test)\n",
    "\n",
    "# 9. 정확도와 F1 스코어 계산\n",
    "accuracy = accuracy_score(y_test, y_pred)\n",
    "f1 = f1_score(y_test, y_pred, pos_label=1)\n",
    "\n",
    "print(f\"Accuracy: {accuracy:.4f}\")\n",
    "print(f\"F1 Score: {f1:.4f}\")"
   ]
  },
  {
   "cell_type": "code",
   "execution_count": 12,
   "metadata": {},
   "outputs": [
    {
     "name": "stdout",
     "output_type": "stream",
     "text": [
      "Accuracy: 0.7486\n",
      "F1 Score: 0.7598\n"
     ]
    }
   ],
   "source": [
    "# 7. SVM 모델 초기화 및 학습\n",
    "svm4 = SVC(kernel='rbf', gamma='scale', C=0.1, class_weight=None, random_state=42)\n",
    "svm4.fit(X_train, y_train)\n",
    "\n",
    "# 8. 테스트 데이터에 대해 예측 수행\n",
    "y_pred = svm4.predict(X_test)\n",
    "\n",
    "# 9. 정확도와 F1 스코어 계산\n",
    "accuracy = accuracy_score(y_test, y_pred)\n",
    "f1 = f1_score(y_test, y_pred, pos_label=1)\n",
    "\n",
    "print(f\"Accuracy: {accuracy:.4f}\")\n",
    "print(f\"F1 Score: {f1:.4f}\")"
   ]
  },
  {
   "cell_type": "code",
   "execution_count": 13,
   "metadata": {},
   "outputs": [
    {
     "name": "stdout",
     "output_type": "stream",
     "text": [
      "Accuracy: 0.7975\n",
      "F1 Score: 0.7999\n"
     ]
    }
   ],
   "source": [
    "# 7. SVM 모델 초기화 및 학습\n",
    "svm5 = SVC(kernel='rbf', gamma='scale', C=10, class_weight=None, random_state=42)\n",
    "svm5.fit(X_train, y_train)\n",
    "\n",
    "# 8. 테스트 데이터에 대해 예측 수행\n",
    "y_pred = svm5.predict(X_test)\n",
    "\n",
    "# 9. 정확도와 F1 스코어 계산\n",
    "accuracy = accuracy_score(y_test, y_pred)\n",
    "f1 = f1_score(y_test, y_pred, pos_label=1)\n",
    "\n",
    "print(f\"Accuracy: {accuracy:.4f}\")\n",
    "print(f\"F1 Score: {f1:.4f}\")"
   ]
  },
  {
   "cell_type": "code",
   "execution_count": 14,
   "metadata": {},
   "outputs": [
    {
     "name": "stdout",
     "output_type": "stream",
     "text": [
      "Accuracy: 0.8176\n",
      "F1 Score: 0.8188\n"
     ]
    }
   ],
   "source": [
    "# 7. SVM 모델 초기화 및 학습\n",
    "svm6 = SVC(kernel='rbf', gamma='scale', C=100, class_weight=None, random_state=42)\n",
    "svm6.fit(X_train, y_train)\n",
    "\n",
    "# 8. 테스트 데이터에 대해 예측 수행\n",
    "y_pred = svm6.predict(X_test)\n",
    "\n",
    "# 9. 정확도와 F1 스코어 계산\n",
    "accuracy = accuracy_score(y_test, y_pred)\n",
    "f1 = f1_score(y_test, y_pred, pos_label=1)\n",
    "\n",
    "print(f\"Accuracy: {accuracy:.4f}\")\n",
    "print(f\"F1 Score: {f1:.4f}\")"
   ]
  },
  {
   "cell_type": "code",
   "execution_count": null,
   "metadata": {},
   "outputs": [
    {
     "name": "stdout",
     "output_type": "stream",
     "text": [
      "Accuracy: 0.5486\n",
      "F1 Score: 0.5512\n"
     ]
    }
   ],
   "source": [
    "# 7. SVM 모델 초기화 및 학습\n",
    "svm8 = SVC(kernel='sigmoid', gamma='scale', coef0=0, C=1.0, class_weight=None, random_state=42)\n",
    "svm8.fit(X_train, y_train)\n",
    "\n",
    "# 8. 테스트 데이터에 대해 예측 수행\n",
    "y_pred = svm8.predict(X_test)\n",
    "\n",
    "# 9. 정확도와 F1 스코어 계산\n",
    "accuracy = accuracy_score(y_test, y_pred)\n",
    "f1 = f1_score(y_test, y_pred, pos_label=1)\n",
    "\n",
    "print(f\"Accuracy: {accuracy:.4f}\")\n",
    "print(f\"F1 Score: {f1:.4f}\")"
   ]
  }
 ],
 "metadata": {
  "kernelspec": {
   "display_name": "Python 3",
   "language": "python",
   "name": "python3"
  },
  "language_info": {
   "codemirror_mode": {
    "name": "ipython",
    "version": 3
   },
   "file_extension": ".py",
   "mimetype": "text/x-python",
   "name": "python",
   "nbconvert_exporter": "python",
   "pygments_lexer": "ipython3",
   "version": "3.13.0"
  }
 },
 "nbformat": 4,
 "nbformat_minor": 2
}
