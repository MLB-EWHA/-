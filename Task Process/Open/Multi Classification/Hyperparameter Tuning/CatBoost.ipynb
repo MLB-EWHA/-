{
 "cells": [
  {
   "cell_type": "code",
   "execution_count": null,
   "metadata": {},
   "outputs": [
    {
     "name": "stdout",
     "output_type": "stream",
     "text": [
      "Fitting 3 folds for each of 24 candidates, totalling 72 fits\n"
     ]
    }
   ],
   "source": [
    "# 필요한 라이브러리 불러오기\n",
    "import pandas as pd\n",
    "from sklearn.model_selection import train_test_split, RandomizedSearchCV\n",
    "from sklearn.metrics import classification_report, accuracy_score, f1_score\n",
    "from catboost import CatBoostClassifier\n",
    "\n",
    "# 데이터 로드\n",
    "data = pd.read_csv(\"../monunmon.csv\")\n",
    "\n",
    "# Label 값에 1을 더하여 0부터 시작하는 연속된 정수로 변환\n",
    "data['Label'] = data['Label'] + 1\n",
    "\n",
    "# 특성과 레이블 분리\n",
    "X = data.drop(columns=['Label'])  # 피처 데이터\n",
    "y = data['Label']  # 레이블 데이터\n",
    "\n",
    "# Train, Validation, Test 데이터 나누기\n",
    "X_train, X_temp, y_train, y_temp = train_test_split(X, y, test_size=0.3, random_state=42, stratify=y)\n",
    "X_val, X_test, y_val, y_test = train_test_split(X_temp, y_temp, test_size=0.5, random_state=42, stratify=y_temp)\n",
    "\n",
    "### RandomizedSearchCV를 이용한 하이퍼파라미터 튜닝 ###\n",
    "param_dist = {\n",
    "    'depth': [4, 6, 8, 10],            # 트리 깊이\n",
    "    'learning_rate': [0.01, 0.05, 0.1, 0.2],  # 학습률\n",
    "    'iterations': [500, 1000, 1500],   # 반복 횟수\n",
    "    'l2_leaf_reg': [1, 3, 5, 7],       # L2 정규화\n",
    "    'bagging_temperature': [0.1, 0.5, 1], # 배깅 온도\n",
    "    'border_count': [32, 64, 128]      # 이진 분할 개수\n",
    "}\n",
    "\n",
    "random_search = RandomizedSearchCV(\n",
    "    estimator=CatBoostClassifier(\n",
    "        random_seed=42,\n",
    "        loss_function='MultiClass',\n",
    "        eval_metric='MultiClass',\n",
    "        verbose=0\n",
    "    ),\n",
    "    param_distributions=param_dist,\n",
    "    n_iter=50,                         # 랜덤 샘플링 횟수\n",
    "    scoring='f1_weighted',             # 평가 기준\n",
    "    cv=3,                              # 3-겹 교차 검증\n",
    "    verbose=2,                         # RandomizedSearchCV 진행 상황 출력\n",
    "    n_jobs=-1,                         # 병렬 처리\n",
    "    random_state=42\n",
    ")\n",
    "\n",
    "# RandomizedSearchCV 실행\n",
    "print(\"Starting RandomizedSearchCV...\")\n",
    "random_search.fit(X_train, y_train)\n",
    "\n",
    "# 최적의 하이퍼파라미터 출력\n",
    "print(\"Best Parameters:\", random_search.best_params_)\n",
    "print(\"Best Cross-Validation Score:\", random_search.best_score_)\n",
    "\n",
    "# 최적 모델로 테스트 데이터 평가\n",
    "best_model = random_search.best_estimator_\n",
    "y_test_pred = best_model.predict(X_test)\n",
    "\n",
    "# 최적 모델 성능 출력\n",
    "print(\"\\nClassification Report on Test Data (Tuned CatBoost):\")\n",
    "print(classification_report(y_test, y_test_pred))\n",
    "\n",
    "test_accuracy_tuned = accuracy_score(y_test, y_test_pred)\n",
    "test_f1_tuned = f1_score(y_test, y_test_pred, average='weighted')\n",
    "\n",
    "print(f\"Test Accuracy (Tuned): {test_accuracy_tuned}\")\n",
    "print(f\"Test F1 Score (Tuned): {test_f1_tuned}\")\n"
   ]
  }
 ],
 "metadata": {
  "kernelspec": {
   "display_name": "pythonenv",
   "language": "python",
   "name": "python3"
  },
  "language_info": {
   "codemirror_mode": {
    "name": "ipython",
    "version": 3
   },
   "file_extension": ".py",
   "mimetype": "text/x-python",
   "name": "python",
   "nbconvert_exporter": "python",
   "pygments_lexer": "ipython3",
   "version": "3.8.10"
  }
 },
 "nbformat": 4,
 "nbformat_minor": 2
}
