{
 "cells": [
  {
   "cell_type": "code",
   "execution_count": null,
   "metadata": {
    "colab": {
     "base_uri": "https://localhost:8080/"
    },
    "executionInfo": {
     "elapsed": 2550739,
     "status": "ok",
     "timestamp": 1732676135784,
     "user": {
      "displayName": "오윤재",
      "userId": "04375251631092764589"
     },
     "user_tz": -540
    },
    "id": "HB_cQbIKkoCq",
    "outputId": "7e6e4540-a72b-4102-d2ae-8c33f44c6232"
   },
   "outputs": [
    {
     "name": "stderr",
     "output_type": "stream",
     "text": [
      "/usr/local/lib/python3.10/dist-packages/dask/dataframe/__init__.py:42: FutureWarning: \n",
      "Dask dataframe query planning is disabled because dask-expr is not installed.\n",
      "\n",
      "You can install it with `pip install dask[dataframe]` or `conda install dask`.\n",
      "This will raise in a future version.\n",
      "\n",
      "  warnings.warn(msg, FutureWarning)\n"
     ]
    },
    {
     "name": "stdout",
     "output_type": "stream",
     "text": [
      "Label Distribution:\n",
      "Label\n",
      "1    19000\n",
      "0     3000\n",
      "Name: count, dtype: int64\n",
      "Fitting 3 folds for each of 972 candidates, totalling 2916 fits\n"
     ]
    },
    {
     "name": "stderr",
     "output_type": "stream",
     "text": [
      "/usr/local/lib/python3.10/dist-packages/numpy/ma/core.py:2820: RuntimeWarning: invalid value encountered in cast\n",
      "  _data = np.array(data, dtype=dtype, copy=copy,\n"
     ]
    },
    {
     "name": "stdout",
     "output_type": "stream",
     "text": [
      "[LightGBM] [Info] Number of positive: 13300, number of negative: 2100\n",
      "[LightGBM] [Info] Auto-choosing col-wise multi-threading, the overhead of testing was 0.002330 seconds.\n",
      "You can set `force_col_wise=true` to remove the overhead.\n",
      "[LightGBM] [Info] Total Bins 3345\n",
      "[LightGBM] [Info] Number of data points in the train set: 15400, number of used features: 15\n",
      "[LightGBM] [Info] [binary:BoostFromScore]: pavg=0.863636 -> initscore=1.845827\n",
      "[LightGBM] [Info] Start training from score 1.845827\n",
      "Best Parameters: {'colsample_bytree': 0.8, 'learning_rate': 0.1, 'max_depth': -1, 'min_child_samples': 20, 'n_estimators': 300, 'num_leaves': 50, 'subsample': 0.8}\n",
      "Best F1 Score: 0.9486857861835238\n",
      "Validation Accuracy with Tuned Model: 0.92\n",
      "Validation F1 Score with Tuned Model: 0.95\n",
      "Test Accuracy with Tuned Model: 0.91\n",
      "Test F1 Score with Tuned Model: 0.95\n",
      "\n",
      "Classification Report on Test Data with Tuned Model:\n",
      "              precision    recall  f1-score   support\n",
      "\n",
      "           0       0.81      0.43      0.56       450\n",
      "           1       0.92      0.98      0.95      2850\n",
      "\n",
      "    accuracy                           0.91      3300\n",
      "   macro avg       0.86      0.71      0.75      3300\n",
      "weighted avg       0.90      0.91      0.90      3300\n",
      "\n"
     ]
    }
   ],
   "source": [
    "#1. 필요한 라이브러리 불러오기\n",
    "import pandas as pd\n",
    "import numpy as np\n",
    "from sklearn.model_selection import train_test_split\n",
    "from sklearn.preprocessing import StandardScaler\n",
    "from sklearn.metrics import classification_report, accuracy_score, f1_score\n",
    "import lightgbm as lgb\n",
    "\n",
    "#2. 데이터 로드\n",
    "data = pd.read_csv(\"../../../../monunmon.csv\")  # CSV 파일 경로\n",
    "\n",
    "#3. 레이블 이진 분류를 위해 변환 (0~94 -> 1, -1 -> 0)\n",
    "data['Label'] = data['Label'].apply(lambda x: 1 if x >= 0 else 0)\n",
    "\n",
    "#4. 변환 결과 확인\n",
    "print(\"Label Distribution:\")\n",
    "print(data['Label'].value_counts())\n",
    "\n",
    "#5. 특성과 레이블 분리\n",
    "X = data.drop(columns=['Label'])  # 피처 데이터\n",
    "y = data['Label']  # 레이블 데이터\n",
    "\n",
    "#6. Train, Validation, Test 데이터 나누기\n",
    "X_train, X_temp, y_train, y_temp = train_test_split(X, y, test_size=0.3, random_state=42, stratify=y)\n",
    "X_val, X_test, y_val, y_test = train_test_split(X_temp, y_temp, test_size=0.5, random_state=42, stratify=y_temp)\n",
    "\n",
    "#7. 데이터 정규화 (LightGBM은 정규화 필요 없음, 하지만 데이터 분포에 따라 적용)\n",
    "scaler = StandardScaler()\n",
    "X_train = scaler.fit_transform(X_train)\n",
    "X_val = scaler.transform(X_val)\n",
    "X_test = scaler.transform(X_test)\n",
    "\n",
    "#8. GridSearchCV를 사용한 하이퍼파라미터 튜닝\n",
    "from sklearn.model_selection import GridSearchCV\n",
    "\n",
    "# 1. 하이퍼파라미터 설정\n",
    "param_grid = {\n",
    "    'n_estimators': [100, 300, 500],\n",
    "    'learning_rate': [0.01, 0.05, 0.1],\n",
    "    'max_depth': [-1, 5, 10],\n",
    "    'num_leaves': [31, 50, 100],\n",
    "    'min_child_samples': [10, 20, 30],\n",
    "    'subsample': [0.8, 1.0],\n",
    "    'colsample_bytree': [0.8, 1.0]\n",
    "}\n",
    "\n",
    "# 2. GridSearchCV 설정\n",
    "grid_search = GridSearchCV(\n",
    "    estimator=lgb.LGBMClassifier(random_state=42),\n",
    "    param_grid=param_grid,\n",
    "    scoring='f1',  # F1 스코어 기준으로 평가\n",
    "    cv=3,  # 3-폴드 교차 검증\n",
    "    verbose=2,\n",
    "    n_jobs=-1  # 모든 CPU 코어 사용\n",
    ")\n",
    "\n",
    "# 3. 학습\n",
    "grid_search.fit(X_train, y_train)\n",
    "\n",
    "# 4. 최적 하이퍼파라미터 및 결과 출력\n",
    "print(\"Best Parameters:\", grid_search.best_params_)\n",
    "print(\"Best F1 Score:\", grid_search.best_score_)\n",
    "\n",
    "# 5. 최적 모델로 평가\n",
    "best_model = grid_search.best_estimator_\n",
    "\n",
    "y_val_pred = best_model.predict(X_val)\n",
    "val_accuracy = accuracy_score(y_val, y_val_pred)\n",
    "val_f1 = f1_score(y_val, y_val_pred)\n",
    "\n",
    "print(f\"Validation Accuracy with Tuned Model: {val_accuracy:.2f}\")\n",
    "print(f\"Validation F1 Score with Tuned Model: {val_f1:.2f}\")\n",
    "\n",
    "y_test_pred = best_model.predict(X_test)\n",
    "test_accuracy = accuracy_score(y_test, y_test_pred)\n",
    "test_f1 = f1_score(y_test, y_test_pred)\n",
    "\n",
    "print(f\"Test Accuracy with Tuned Model: {test_accuracy:.2f}\")\n",
    "print(f\"Test F1 Score with Tuned Model: {test_f1:.2f}\")\n",
    "\n",
    "print(\"\\nClassification Report on Test Data with Tuned Model:\")\n",
    "print(classification_report(y_test, y_test_pred))"
   ]
  }
 ],
 "metadata": {
  "accelerator": "GPU",
  "colab": {
   "gpuType": "T4",
   "provenance": []
  },
  "kernelspec": {
   "display_name": "Python 3",
   "name": "python3"
  },
  "language_info": {
   "name": "python"
  }
 },
 "nbformat": 4,
 "nbformat_minor": 0
}
