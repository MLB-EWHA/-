{
 "cells": [
  {
   "cell_type": "code",
   "execution_count": null,
   "metadata": {},
   "outputs": [
    {
     "name": "stdout",
     "output_type": "stream",
     "text": [
      "Label Distribution:\n",
      "Label\n",
      "1    19000\n",
      "0     3000\n",
      "Name: count, dtype: int64\n",
      "Validation Accuracy: 0.89\n",
      "Validation F1 Score: 0.94\n",
      "Test Accuracy: 0.89\n",
      "Test F1 Score: 0.94\n",
      "\n",
      "Classification Report on Test Data:\n",
      "              precision    recall  f1-score   support\n",
      "\n",
      "           0       0.75      0.26      0.38       450\n",
      "           1       0.89      0.99      0.94      2850\n",
      "\n",
      "    accuracy                           0.89      3300\n",
      "   macro avg       0.82      0.62      0.66      3300\n",
      "weighted avg       0.87      0.89      0.86      3300\n",
      "\n"
     ]
    }
   ],
   "source": [
    "# 필요한 라이브러리 불러오기\n",
    "import pandas as pd\n",
    "import numpy as np\n",
    "from sklearn.model_selection import train_test_split\n",
    "from sklearn.preprocessing import StandardScaler\n",
    "from sklearn.ensemble import AdaBoostClassifier\n",
    "from sklearn.metrics import classification_report, accuracy_score, f1_score\n",
    "\n",
    "# 데이터 로드\n",
    "data = pd.read_csv(\"../../../../monunmon.csv\")  # CSV 파일 경로\n",
    "\n",
    "# 레이블 이진 분류를 위해 변환 (0~94 -> 1, -1 -> 0)\n",
    "data['Label'] = data['Label'].apply(lambda x: 1 if x >= 0 else 0)\n",
    "\n",
    "# 변환 결과 확인\n",
    "print(\"Label Distribution:\")\n",
    "print(data['Label'].value_counts())\n",
    "\n",
    "# 특성과 레이블 분리\n",
    "X = data.drop(columns=['Label'])  # 피처 데이터\n",
    "y = data['Label']  # 레이블 데이터\n",
    "\n",
    "# Train, Validation, Test 데이터 나누기\n",
    "X_train, X_temp, y_train, y_temp = train_test_split(X, y, test_size=0.3, random_state=42, stratify=y)\n",
    "X_val, X_test, y_val, y_test = train_test_split(X_temp, y_temp, test_size=0.5, random_state=42, stratify=y_temp)\n",
    "\n",
    "# 데이터 정규화 (Adaboost는 정규화 없이도 잘 작동하지만, 정규화를 적용해도 괜찮음)\n",
    "scaler = StandardScaler()\n",
    "X_train = scaler.fit_transform(X_train)\n",
    "X_val = scaler.transform(X_val)\n",
    "X_test = scaler.transform(X_test)\n",
    "\n",
    "# Adaboost 모델 정의 및 학습\n",
    "model = AdaBoostClassifier(n_estimators=100, random_state=42)  # n_estimators는 부스팅 단계 수\n",
    "model.fit(X_train, y_train)\n",
    "\n",
    "# 검증 데이터 평가\n",
    "y_val_pred = model.predict(X_val)\n",
    "val_accuracy = accuracy_score(y_val, y_val_pred)\n",
    "val_f1 = f1_score(y_val, y_val_pred)\n",
    "\n",
    "print(f\"Validation Accuracy: {val_accuracy:.2f}\")\n",
    "print(f\"Validation F1 Score: {val_f1:.2f}\")\n",
    "\n",
    "# 테스트 데이터 평가\n",
    "y_test_pred = model.predict(X_test)\n",
    "test_accuracy = accuracy_score(y_test, y_test_pred)\n",
    "test_f1 = f1_score(y_test, y_test_pred)\n",
    "\n",
    "print(f\"Test Accuracy: {test_accuracy:.2f}\")\n",
    "print(f\"Test F1 Score: {test_f1:.2f}\")\n",
    "\n",
    "# 분류 보고서 출력\n",
    "print(\"\\nClassification Report on Test Data:\")\n",
    "print(classification_report(y_test, y_test_pred))\n"
   ]
  },
  {
   "cell_type": "code",
   "execution_count": null,
   "metadata": {},
   "outputs": [
    {
     "name": "stdout",
     "output_type": "stream",
     "text": [
      "=== AdaBoost with Class Weights ===\n"
     ]
    },
    {
     "name": "stderr",
     "output_type": "stream",
     "text": [
      "c:\\Users\\yzooz\\pythonenv\\lib\\site-packages\\sklearn\\ensemble\\_base.py:156: FutureWarning: `base_estimator` was renamed to `estimator` in version 1.2 and will be removed in 1.4.\n",
      "  warnings.warn(\n"
     ]
    },
    {
     "name": "stdout",
     "output_type": "stream",
     "text": [
      "\n",
      "Classification Report on Test Data (Class Weights):\n",
      "              precision    recall  f1-score   support\n",
      "\n",
      "           0       0.32      0.69      0.44       450\n",
      "           1       0.94      0.77      0.85      2850\n",
      "\n",
      "    accuracy                           0.76      3300\n",
      "   macro avg       0.63      0.73      0.64      3300\n",
      "weighted avg       0.86      0.76      0.79      3300\n",
      "\n",
      "\n",
      "=== AdaBoost with SMOTE ===\n",
      "Resampled Training Set Size (SMOTE): (26600, 15)\n"
     ]
    },
    {
     "name": "stderr",
     "output_type": "stream",
     "text": [
      "c:\\Users\\yzooz\\pythonenv\\lib\\site-packages\\sklearn\\ensemble\\_base.py:156: FutureWarning: `base_estimator` was renamed to `estimator` in version 1.2 and will be removed in 1.4.\n",
      "  warnings.warn(\n"
     ]
    },
    {
     "name": "stdout",
     "output_type": "stream",
     "text": [
      "\n",
      "Classification Report on Test Data (SMOTE):\n",
      "              precision    recall  f1-score   support\n",
      "\n",
      "           0       0.33      0.71      0.45       450\n",
      "           1       0.94      0.77      0.85      2850\n",
      "\n",
      "    accuracy                           0.76      3300\n",
      "   macro avg       0.64      0.74      0.65      3300\n",
      "weighted avg       0.86      0.76      0.79      3300\n",
      "\n"
     ]
    }
   ],
   "source": [
    "# 필요한 라이브러리 불러오기\n",
    "import pandas as pd\n",
    "from sklearn.model_selection import train_test_split\n",
    "from sklearn.preprocessing import StandardScaler\n",
    "from sklearn.ensemble import AdaBoostClassifier\n",
    "from sklearn.metrics import classification_report\n",
    "from imblearn.over_sampling import SMOTE\n",
    "from imblearn.under_sampling import RandomUnderSampler\n",
    "from sklearn.tree import DecisionTreeClassifier\n",
    "\n",
    "# 데이터 로드\n",
    "data = pd.read_csv(\"../../../../monunmon.csv\")  # 데이터셋 경로 입력\n",
    "data['Label'] = data['Label'].apply(lambda x: 1 if x >= 0 else 0)  # 이진 레이블 변환\n",
    "\n",
    "# 특성과 레이블 분리\n",
    "X = data.drop(columns=['Label'])  # 피처 데이터\n",
    "y = data['Label']  # 레이블 데이터\n",
    "\n",
    "# Train, Validation, Test 데이터 나누기\n",
    "X_train, X_temp, y_train, y_temp = train_test_split(X, y, test_size=0.3, random_state=42, stratify=y)\n",
    "X_val, X_test, y_val, y_test = train_test_split(X_temp, y_temp, test_size=0.5, random_state=42, stratify=y_temp)\n",
    "\n",
    "# 데이터 정규화\n",
    "scaler = StandardScaler()\n",
    "X_train = scaler.fit_transform(X_train)\n",
    "X_val = scaler.transform(X_val)\n",
    "X_test = scaler.transform(X_test)\n",
    "\n",
    "### 방법 1: 클래스 가중치 적용 ###\n",
    "print(\"=== AdaBoost with Class Weights ===\")\n",
    "base_estimator_weighted = DecisionTreeClassifier(max_depth=1, class_weight='balanced')  # 기본 학습기에 가중치 적용\n",
    "model_weighted = AdaBoostClassifier(base_estimator=base_estimator_weighted, n_estimators=100, random_state=42)\n",
    "model_weighted.fit(X_train, y_train)\n",
    "\n",
    "# 테스트 데이터 평가\n",
    "y_test_pred_weighted = model_weighted.predict(X_test)\n",
    "print(\"\\nClassification Report on Test Data (Class Weights):\")\n",
    "print(classification_report(y_test, y_test_pred_weighted))\n",
    "\n",
    "### 방법 2: SMOTE를 이용한 오버샘플링 ###\n",
    "print(\"\\n=== AdaBoost with SMOTE ===\")\n",
    "smote = SMOTE(random_state=42)\n",
    "X_train_smote, y_train_smote = smote.fit_resample(X_train, y_train)\n",
    "\n",
    "print(\"Resampled Training Set Size (SMOTE):\", X_train_smote.shape)\n",
    "\n",
    "base_estimator_smote = DecisionTreeClassifier(max_depth=1)  # 기본 학습기 설정\n",
    "model_smote = AdaBoostClassifier(base_estimator=base_estimator_smote, n_estimators=100, random_state=42)\n",
    "model_smote.fit(X_train_smote, y_train_smote)\n",
    "\n",
    "# 테스트 데이터 평가\n",
    "y_test_pred_smote = model_smote.predict(X_test)\n",
    "print(\"\\nClassification Report on Test Data (SMOTE):\")\n",
    "print(classification_report(y_test, y_test_pred_smote))\n",
    "\n",
    "\n"
   ]
  }
 ],
 "metadata": {
  "kernelspec": {
   "display_name": "pythonenv",
   "language": "python",
   "name": "python3"
  },
  "language_info": {
   "codemirror_mode": {
    "name": "ipython",
    "version": 3
   },
   "file_extension": ".py",
   "mimetype": "text/x-python",
   "name": "python",
   "nbconvert_exporter": "python",
   "pygments_lexer": "ipython3",
   "version": "3.8.10"
  }
 },
 "nbformat": 4,
 "nbformat_minor": 2
}
