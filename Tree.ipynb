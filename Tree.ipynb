{
 "cells": [
  {
   "cell_type": "code",
   "execution_count": 2,
   "metadata": {},
   "outputs": [
    {
     "name": "stdout",
     "output_type": "stream",
     "text": [
      "Hello\n"
     ]
    }
   ],
   "source": [
    "print('Hello')"
   ]
  },
  {
   "cell_type": "code",
   "execution_count": 4,
   "metadata": {},
   "outputs": [
    {
     "name": "stdout",
     "output_type": "stream",
     "text": [
      "<bound method NDFrame.head of        Total Packets  Incoming Packets  Outgoing Packets  Incoming Ratio  \\\n",
      "0             1421.0             121.0            1300.0        0.085151   \n",
      "1              518.0              80.0             438.0        0.154440   \n",
      "2             1358.0             118.0            1240.0        0.086892   \n",
      "3             1446.0             122.0            1324.0        0.084371   \n",
      "4             1406.0             115.0            1291.0        0.081792   \n",
      "...              ...               ...               ...             ...   \n",
      "18995         9434.0             619.0            8815.0        0.065614   \n",
      "18996         9956.0             552.0            9404.0        0.055444   \n",
      "18997         9952.0             579.0            9373.0        0.058179   \n",
      "18998         9926.0             690.0            9236.0        0.069514   \n",
      "18999         9925.0             757.0            9168.0        0.076272   \n",
      "\n",
      "       Outgoing Ratio  Outgoing Std  Outgoing Mean  Packets per Second  \\\n",
      "0            0.914849    515.483953     773.322314          140.138067   \n",
      "1            0.845560    139.231951     226.162500           50.984252   \n",
      "2            0.913108    472.735508     786.110169          122.232223   \n",
      "3            0.915629    513.916038     820.139344          108.233533   \n",
      "4            0.918208    503.993490     789.608696          132.142857   \n",
      "...               ...           ...            ...                 ...   \n",
      "18995        0.934386   3053.116218    4844.586430          214.848554   \n",
      "18996        0.944556   3010.091146    4541.974638          638.205128   \n",
      "18997        0.941821   3102.381602    4766.072539          666.577361   \n",
      "18998        0.930486   3116.574388    5278.146377          498.543445   \n",
      "18999        0.923728   3269.954300    5452.516513          721.293605   \n",
      "\n",
      "       First 30 Incoming  First 30 Outgoing  Inter-arrival Mean  \\\n",
      "0                    9.0               21.0            0.007141   \n",
      "1                    8.0               22.0            0.019652   \n",
      "2                    7.0               23.0            0.008187   \n",
      "3                    9.0               21.0            0.009246   \n",
      "4                    8.0               22.0            0.007573   \n",
      "...                  ...                ...                 ...   \n",
      "18995                7.0               23.0            0.004655   \n",
      "18996                7.0               23.0            0.001567   \n",
      "18997                8.0               22.0            0.001500   \n",
      "18998                7.0               23.0            0.002006   \n",
      "18999                7.0               23.0            0.001387   \n",
      "\n",
      "       Inter-arrival Std  Concentration Mean  Concentration Std  \\\n",
      "0               0.041168            1.680556           2.510126   \n",
      "1               0.163930            3.076923           3.011811   \n",
      "2               0.066661            1.735294           2.361565   \n",
      "3               0.047809            1.671233           2.183718   \n",
      "4               0.038760            1.619718           2.112113   \n",
      "...                  ...                 ...                ...   \n",
      "18995           0.143962            1.311441           2.124922   \n",
      "18996           0.019465            1.108434           1.908628   \n",
      "18997           0.016411            1.162651           1.877699   \n",
      "18998           0.033281            1.388330           2.200262   \n",
      "18999           0.011074            1.523139           2.512738   \n",
      "\n",
      "       Alternative Sum  Label  \n",
      "0            -603648.0      0  \n",
      "1            -183296.0      0  \n",
      "2            -574464.0      0  \n",
      "3            -615424.0      0  \n",
      "4            -602112.0      0  \n",
      "...                ...    ...  \n",
      "18995       -4196352.0     94  \n",
      "18996       -4532224.0     94  \n",
      "18997       -4502528.0     94  \n",
      "18998       -4375552.0     94  \n",
      "18999       -4306432.0     94  \n",
      "\n",
      "[19000 rows x 16 columns]>\n"
     ]
    }
   ],
   "source": [
    "import pandas as pd\n",
    "\n",
    "path = '/Users/whovi/OneDrive/Documents/mon.csv'\n",
    "df = pd.read_csv(path)\n",
    "\n",
    "print(df.head)"
   ]
  },
  {
   "cell_type": "code",
   "execution_count": 5,
   "metadata": {},
   "outputs": [
    {
     "name": "stdout",
     "output_type": "stream",
     "text": [
      "Validation Accuracy: 0.6621\n",
      "Test Accuracy: 0.6611\n"
     ]
    }
   ],
   "source": [
    "from sklearn.model_selection import train_test_split\n",
    "from sklearn.ensemble import GradientBoostingClassifier\n",
    "from sklearn.metrics import accuracy_score\n",
    "\n",
    "# 특징과 라벨 분리\n",
    "X = df.drop(columns=['Label'])\n",
    "y = df['Label']\n",
    "\n",
    "# 데이터 분할\n",
    "X_train, X_temp, y_train, y_temp = train_test_split(X, y, test_size=0.3, random_state=42)\n",
    "X_val, X_test, y_val, y_test = train_test_split(X_temp, y_temp, test_size=0.5, random_state=42)\n",
    "\n",
    "# 모델 초기화 및 학습\n",
    "model = GradientBoostingClassifier(random_state=42)\n",
    "model.fit(X_train, y_train)\n",
    "\n",
    "# 검증 데이터 예측 및 정확도 측정\n",
    "y_val_pred = model.predict(X_val)\n",
    "val_accuracy = accuracy_score(y_val, y_val_pred)\n",
    "print(f\"Validation Accuracy: {val_accuracy:.4f}\")\n",
    "\n",
    "# 테스트 데이터 예측 및 정확도 측정\n",
    "y_test_pred = model.predict(X_test)\n",
    "test_accuracy = accuracy_score(y_test, y_test_pred)\n",
    "print(f\"Test Accuracy: {test_accuracy:.4f}\")"
   ]
  },
  {
   "cell_type": "code",
   "execution_count": 8,
   "metadata": {},
   "outputs": [
    {
     "name": "stdout",
     "output_type": "stream",
     "text": [
      "Fitting 3 folds for each of 10 candidates, totalling 30 fits\n",
      "Best Parameters: {'learning_rate': 0.05, 'max_depth': 3, 'min_samples_leaf': 4, 'min_samples_split': 6, 'n_estimators': 200}\n",
      "Best Validation Accuracy: 0.6875197035614339\n"
     ]
    }
   ],
   "source": [
    "from sklearn.model_selection import RandomizedSearchCV\n",
    "from sklearn.ensemble import GradientBoostingClassifier\n",
    "from scipy.stats import randint\n",
    "\n",
    "# 탐색할 하이퍼파라미터 범위 설정\n",
    "param_distributions = {\n",
    "    'n_estimators': [100, 200],\n",
    "    'learning_rate': [0.05, 0.1],\n",
    "    'max_depth': [3, 5],\n",
    "    'min_samples_split': randint(2, 11),\n",
    "    'min_samples_leaf': randint(1, 5)\n",
    "}\n",
    "\n",
    "# RandomizedSearchCV 설정 \n",
    "random_search = RandomizedSearchCV(\n",
    "    estimator=GradientBoostingClassifier(random_state=42),\n",
    "    param_distributions=param_distributions,\n",
    "    n_iter=10,  # 시도할 조합 수 설정\n",
    "    cv=3,\n",
    "    scoring='accuracy',\n",
    "    n_jobs=-1,\n",
    "    verbose=2,\n",
    "    random_state=42\n",
    ")\n",
    "\n",
    "# 학습 및 결과 출력\n",
    "random_search.fit(X_train, y_train)\n",
    "print(\"Best Parameters:\", random_search.best_params_)\n",
    "print(\"Best Validation Accuracy:\", random_search.best_score_)\n"
   ]
  },
  {
   "cell_type": "markdown",
   "metadata": {},
   "source": [
    "## 중요도 높은 순서 뽑아서 진행"
   ]
  },
  {
   "cell_type": "code",
   "execution_count": 11,
   "metadata": {},
   "outputs": [
    {
     "name": "stdout",
     "output_type": "stream",
     "text": [
      "               Feature  Importance\n",
      "6        Outgoing Mean    0.130847\n",
      "0        Total Packets    0.106775\n",
      "5         Outgoing Std    0.106460\n",
      "14     Alternative Sum    0.092265\n",
      "1     Incoming Packets    0.092206\n",
      "13   Concentration Std    0.083499\n",
      "11   Inter-arrival Std    0.073148\n",
      "2     Outgoing Packets    0.055949\n",
      "8    First 30 Incoming    0.041715\n",
      "9    First 30 Outgoing    0.041237\n",
      "12  Concentration Mean    0.038721\n",
      "4       Outgoing Ratio    0.037895\n",
      "7   Packets per Second    0.036640\n",
      "10  Inter-arrival Mean    0.035309\n",
      "3       Incoming Ratio    0.027334\n"
     ]
    }
   ],
   "source": [
    "# 특성 중요도 확인\n",
    "importances = random_search.best_estimator_.feature_importances_\n",
    "feature_importance_df = pd.DataFrame({\n",
    "    'Feature': X_train.columns,\n",
    "    'Importance': importances\n",
    "}).sort_values(by='Importance', ascending=False)\n",
    "print(feature_importance_df)"
   ]
  },
  {
   "cell_type": "code",
   "execution_count": 14,
   "metadata": {},
   "outputs": [
    {
     "name": "stdout",
     "output_type": "stream",
     "text": [
      "Fitting 3 folds for each of 10 candidates, totalling 30 fits\n",
      "Best Parameters with Selected Features: {'learning_rate': 0.05, 'max_depth': 5, 'min_samples_leaf': 4, 'min_samples_split': 10, 'n_estimators': 100}\n",
      "Best Validation Accuracy with Selected Features: 0.6895394709965291\n",
      "Test Accuracy with Best Parameters and Selected Features: 0.7105\n"
     ]
    }
   ],
   "source": [
    "# 중요도가 0.05 이상인 특성만 선택\n",
    "important_features = feature_importance_df[feature_importance_df['Importance'] >= 0.04]['Feature']\n",
    "X_train_selected = X_train[important_features]\n",
    "X_test_selected = X_test[important_features]\n",
    "\n",
    "params_distributions = {\n",
    "    'n_estimators' : [100,200,300],\n",
    "    'learning_rate' : [0.01, 0.05, 0.1],\n",
    "    'max_depth': [3, 5, 7],\n",
    "    'min_samples_split': randint(2, 20),\n",
    "    'min_samples_leaf': randint(1, 10)\n",
    "}\n",
    "\n",
    "random_search = RandomizedSearchCV(\n",
    "    estimator=GradientBoostingClassifier(random_state=42),\n",
    "    param_distributions=param_distributions,\n",
    "    n_iter=10,  # 시도할 조합 수 설정\n",
    "    cv=3,\n",
    "    scoring='accuracy',\n",
    "    n_jobs=-1,\n",
    "    verbose=2,\n",
    "    random_state=42\n",
    ")\n",
    "\n",
    "# 하이퍼파라미터 튜닝 수행\n",
    "random_search.fit(X_train_selected, y_train)\n",
    "\n",
    "# 최적의 하이퍼파라미터 및 성능 출력\n",
    "print(\"Best Parameters with Selected Features:\", random_search.best_params_)\n",
    "print(\"Best Validation Accuracy with Selected Features:\", random_search.best_score_)\n",
    "\n",
    "# 최적의 모델로 테스트 정확도 확인\n",
    "best_model = random_search.best_estimator_\n",
    "y_test_pred = best_model.predict(X_test_selected)\n",
    "test_accuracy = accuracy_score(y_test, y_test_pred)\n",
    "print(f\"Test Accuracy with Best Parameters and Selected Features: {test_accuracy:.4f}\")\n"
   ]
  },
  {
   "cell_type": "markdown",
   "metadata": {},
   "source": [
    "## Randomforest Basic"
   ]
  },
  {
   "cell_type": "code",
   "execution_count": 10,
   "metadata": {},
   "outputs": [
    {
     "name": "stdout",
     "output_type": "stream",
     "text": [
      "Test Accuracy: 0.7739\n"
     ]
    }
   ],
   "source": [
    "import pandas as pd\n",
    "from sklearn.model_selection import train_test_split\n",
    "from sklearn.ensemble import RandomForestClassifier\n",
    "from sklearn.metrics import accuracy_score\n",
    "\n",
    "# 특징과 라벨 분리\n",
    "X = df.drop(columns=['Label'])\n",
    "y = df['Label']\n",
    "\n",
    "# 데이터 분할 (train과 test로 80:20)\n",
    "X_train, X_test, y_train, y_test = train_test_split(X, y, test_size=0.2, random_state=42)\n",
    "\n",
    "# RandomForest 모델 초기화 및 학습\n",
    "model = RandomForestClassifier(random_state=42)\n",
    "model.fit(X_train, y_train)\n",
    "\n",
    "# 예측 및 정확도 측정\n",
    "y_test_pred = model.predict(X_test)\n",
    "test_accuracy = accuracy_score(y_test, y_test_pred)\n",
    "print(f\"Test Accuracy: {test_accuracy:.4f}\")"
   ]
  },
  {
   "cell_type": "markdown",
   "metadata": {},
   "source": [
    "## n_iter를 늘리면 정확도 올라가는 추이"
   ]
  },
  {
   "cell_type": "code",
   "execution_count": 19,
   "metadata": {},
   "outputs": [
    {
     "name": "stdout",
     "output_type": "stream",
     "text": [
      "Fitting 3 folds for each of 30 candidates, totalling 90 fits\n",
      "Best Parameters: {'max_depth': 20, 'max_features': None, 'min_samples_leaf': 1, 'min_samples_split': 6, 'n_estimators': 200}\n",
      "Best Validation Accuracy: 0.7540787374695594\n",
      "Test Accuracy with Best Parameters: 0.7595\n"
     ]
    }
   ],
   "source": [
    "# 탐색할 하이퍼파라미터 범위 설정\n",
    "param_distributions = {\n",
    "    'n_estimators': [100, 200, 300, 400],\n",
    "    'max_depth': [None, 10, 20, 30, 40],\n",
    "    'min_samples_split': randint(2, 20),\n",
    "    'min_samples_leaf': randint(1, 10),\n",
    "    'max_features': ['sqrt', 'log2', None]\n",
    "}\n",
    "\n",
    "# RandomizedSearchCV 설정\n",
    "random_search = RandomizedSearchCV(\n",
    "    estimator=RandomForestClassifier(random_state=42),\n",
    "    param_distributions=param_distributions,\n",
    "    n_iter=30,  # 시도할 조합 수 설정\n",
    "    cv=3,\n",
    "    scoring='accuracy',\n",
    "    n_jobs=-1,\n",
    "    verbose=2,\n",
    "    random_state=42\n",
    ")\n",
    "\n",
    "# 학습\n",
    "random_search.fit(X_train, y_train)\n",
    "\n",
    "# 최적의 하이퍼파라미터와 검증 점수 출력\n",
    "print(\"Best Parameters:\", random_search.best_params_)\n",
    "print(\"Best Validation Accuracy:\", random_search.best_score_)\n",
    "\n",
    "# 최적의 모델로 테스트 정확도 확인\n",
    "best_model = random_search.best_estimator_\n",
    "y_test_pred = best_model.predict(X_test)\n",
    "test_accuracy = accuracy_score(y_test, y_test_pred)\n",
    "print(f\"Test Accuracy with Best Parameters: {test_accuracy:.4f}\")\n"
   ]
  }
 ],
 "metadata": {
  "kernelspec": {
   "display_name": "Python 3",
   "language": "python",
   "name": "python3"
  },
  "language_info": {
   "codemirror_mode": {
    "name": "ipython",
    "version": 3
   },
   "file_extension": ".py",
   "mimetype": "text/x-python",
   "name": "python",
   "nbconvert_exporter": "python",
   "pygments_lexer": "ipython3",
   "version": "3.13.0"
  }
 },
 "nbformat": 4,
 "nbformat_minor": 2
}
